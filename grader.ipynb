{
 "cells": [
  {
   "cell_type": "code",
   "execution_count": 1,
   "metadata": {},
   "outputs": [],
   "source": [
    "from pathlib import Path\n",
    "import pandas as pd\n",
    "import constants"
   ]
  },
  {
   "cell_type": "code",
   "execution_count": 2,
   "metadata": {},
   "outputs": [],
   "source": [
    "df_submissions = pd.read_csv(constants.FORM_RESPONSES_PATH)\n",
    "df_pins = pd.read_csv(constants.SUBMISSION_PINS_PATH)"
   ]
  },
  {
   "cell_type": "code",
   "execution_count": 3,
   "metadata": {},
   "outputs": [
    {
     "data": {
      "text/html": [
       "<div>\n",
       "<style scoped>\n",
       "    .dataframe tbody tr th:only-of-type {\n",
       "        vertical-align: middle;\n",
       "    }\n",
       "\n",
       "    .dataframe tbody tr th {\n",
       "        vertical-align: top;\n",
       "    }\n",
       "\n",
       "    .dataframe thead th {\n",
       "        text-align: right;\n",
       "    }\n",
       "</style>\n",
       "<table border=\"1\" class=\"dataframe\">\n",
       "  <thead>\n",
       "    <tr style=\"text-align: right;\">\n",
       "      <th></th>\n",
       "      <th>Timestamp</th>\n",
       "      <th>Submission Pin</th>\n",
       "      <th>Question 1</th>\n",
       "      <th>Question 2</th>\n",
       "      <th>Question 3</th>\n",
       "      <th>Question 4</th>\n",
       "      <th>Question 5</th>\n",
       "      <th>Question 6</th>\n",
       "      <th>Question 7</th>\n",
       "      <th>Question 8</th>\n",
       "      <th>Question 9</th>\n",
       "      <th>Question 10</th>\n",
       "    </tr>\n",
       "  </thead>\n",
       "  <tbody>\n",
       "    <tr>\n",
       "      <th>0</th>\n",
       "      <td>3/25/2025 13:25:50</td>\n",
       "      <td>82535682</td>\n",
       "      <td>10.0</td>\n",
       "      <td>82.0</td>\n",
       "      <td>NaN</td>\n",
       "      <td>NaN</td>\n",
       "      <td>NaN</td>\n",
       "      <td>NaN</td>\n",
       "      <td>NaN</td>\n",
       "      <td>NaN</td>\n",
       "      <td>NaN</td>\n",
       "      <td>NaN</td>\n",
       "    </tr>\n",
       "    <tr>\n",
       "      <th>1</th>\n",
       "      <td>3/25/2025 13:26:20</td>\n",
       "      <td>82535682</td>\n",
       "      <td>NaN</td>\n",
       "      <td>NaN</td>\n",
       "      <td>NaN</td>\n",
       "      <td>NaN</td>\n",
       "      <td>NaN</td>\n",
       "      <td>NaN</td>\n",
       "      <td>NaN</td>\n",
       "      <td>50000.0</td>\n",
       "      <td>NaN</td>\n",
       "      <td>NaN</td>\n",
       "    </tr>\n",
       "    <tr>\n",
       "      <th>2</th>\n",
       "      <td>3/25/2025 13:26:42</td>\n",
       "      <td>45552596</td>\n",
       "      <td>NaN</td>\n",
       "      <td>82.0</td>\n",
       "      <td>NaN</td>\n",
       "      <td>NaN</td>\n",
       "      <td>2.0</td>\n",
       "      <td>NaN</td>\n",
       "      <td>NaN</td>\n",
       "      <td>NaN</td>\n",
       "      <td>NaN</td>\n",
       "      <td>NaN</td>\n",
       "    </tr>\n",
       "    <tr>\n",
       "      <th>3</th>\n",
       "      <td>3/25/2025 13:26:53</td>\n",
       "      <td>1111</td>\n",
       "      <td>NaN</td>\n",
       "      <td>82.0</td>\n",
       "      <td>NaN</td>\n",
       "      <td>NaN</td>\n",
       "      <td>NaN</td>\n",
       "      <td>NaN</td>\n",
       "      <td>NaN</td>\n",
       "      <td>NaN</td>\n",
       "      <td>NaN</td>\n",
       "      <td>NaN</td>\n",
       "    </tr>\n",
       "  </tbody>\n",
       "</table>\n",
       "</div>"
      ],
      "text/plain": [
       "            Timestamp  Submission Pin  Question 1  Question 2  Question 3  \\\n",
       "0  3/25/2025 13:25:50        82535682        10.0        82.0         NaN   \n",
       "1  3/25/2025 13:26:20        82535682         NaN         NaN         NaN   \n",
       "2  3/25/2025 13:26:42        45552596         NaN        82.0         NaN   \n",
       "3  3/25/2025 13:26:53            1111         NaN        82.0         NaN   \n",
       "\n",
       "   Question 4  Question 5  Question 6  Question 7  Question 8  Question 9  \\\n",
       "0         NaN         NaN         NaN         NaN         NaN         NaN   \n",
       "1         NaN         NaN         NaN         NaN     50000.0         NaN   \n",
       "2         NaN         2.0         NaN         NaN         NaN         NaN   \n",
       "3         NaN         NaN         NaN         NaN         NaN         NaN   \n",
       "\n",
       "   Question 10  \n",
       "0          NaN  \n",
       "1          NaN  \n",
       "2          NaN  \n",
       "3          NaN  "
      ]
     },
     "execution_count": 3,
     "metadata": {},
     "output_type": "execute_result"
    }
   ],
   "source": [
    "df_submissions"
   ]
  },
  {
   "cell_type": "markdown",
   "metadata": {},
   "source": [
    "only keep rows with valid pins"
   ]
  },
  {
   "cell_type": "code",
   "execution_count": 4,
   "metadata": {},
   "outputs": [
    {
     "data": {
      "text/html": [
       "<div>\n",
       "<style scoped>\n",
       "    .dataframe tbody tr th:only-of-type {\n",
       "        vertical-align: middle;\n",
       "    }\n",
       "\n",
       "    .dataframe tbody tr th {\n",
       "        vertical-align: top;\n",
       "    }\n",
       "\n",
       "    .dataframe thead th {\n",
       "        text-align: right;\n",
       "    }\n",
       "</style>\n",
       "<table border=\"1\" class=\"dataframe\">\n",
       "  <thead>\n",
       "    <tr style=\"text-align: right;\">\n",
       "      <th></th>\n",
       "      <th>Timestamp</th>\n",
       "      <th>Submission Pin</th>\n",
       "      <th>Question 1</th>\n",
       "      <th>Question 2</th>\n",
       "      <th>Question 3</th>\n",
       "      <th>Question 4</th>\n",
       "      <th>Question 5</th>\n",
       "      <th>Question 6</th>\n",
       "      <th>Question 7</th>\n",
       "      <th>Question 8</th>\n",
       "      <th>Question 9</th>\n",
       "      <th>Question 10</th>\n",
       "      <th>team</th>\n",
       "      <th>pin</th>\n",
       "    </tr>\n",
       "  </thead>\n",
       "  <tbody>\n",
       "    <tr>\n",
       "      <th>0</th>\n",
       "      <td>3/25/2025 13:25:50</td>\n",
       "      <td>82535682</td>\n",
       "      <td>10.0</td>\n",
       "      <td>82.0</td>\n",
       "      <td>NaN</td>\n",
       "      <td>NaN</td>\n",
       "      <td>NaN</td>\n",
       "      <td>NaN</td>\n",
       "      <td>NaN</td>\n",
       "      <td>NaN</td>\n",
       "      <td>NaN</td>\n",
       "      <td>NaN</td>\n",
       "      <td>39</td>\n",
       "      <td>82535682</td>\n",
       "    </tr>\n",
       "    <tr>\n",
       "      <th>1</th>\n",
       "      <td>3/25/2025 13:26:20</td>\n",
       "      <td>82535682</td>\n",
       "      <td>NaN</td>\n",
       "      <td>NaN</td>\n",
       "      <td>NaN</td>\n",
       "      <td>NaN</td>\n",
       "      <td>NaN</td>\n",
       "      <td>NaN</td>\n",
       "      <td>NaN</td>\n",
       "      <td>50000.0</td>\n",
       "      <td>NaN</td>\n",
       "      <td>NaN</td>\n",
       "      <td>39</td>\n",
       "      <td>82535682</td>\n",
       "    </tr>\n",
       "    <tr>\n",
       "      <th>2</th>\n",
       "      <td>3/25/2025 13:26:42</td>\n",
       "      <td>45552596</td>\n",
       "      <td>NaN</td>\n",
       "      <td>82.0</td>\n",
       "      <td>NaN</td>\n",
       "      <td>NaN</td>\n",
       "      <td>2.0</td>\n",
       "      <td>NaN</td>\n",
       "      <td>NaN</td>\n",
       "      <td>NaN</td>\n",
       "      <td>NaN</td>\n",
       "      <td>NaN</td>\n",
       "      <td>40</td>\n",
       "      <td>45552596</td>\n",
       "    </tr>\n",
       "  </tbody>\n",
       "</table>\n",
       "</div>"
      ],
      "text/plain": [
       "            Timestamp  Submission Pin  Question 1  Question 2  Question 3  \\\n",
       "0  3/25/2025 13:25:50        82535682        10.0        82.0         NaN   \n",
       "1  3/25/2025 13:26:20        82535682         NaN         NaN         NaN   \n",
       "2  3/25/2025 13:26:42        45552596         NaN        82.0         NaN   \n",
       "\n",
       "   Question 4  Question 5  Question 6  Question 7  Question 8  Question 9  \\\n",
       "0         NaN         NaN         NaN         NaN         NaN         NaN   \n",
       "1         NaN         NaN         NaN         NaN     50000.0         NaN   \n",
       "2         NaN         2.0         NaN         NaN         NaN         NaN   \n",
       "\n",
       "   Question 10  team       pin  \n",
       "0          NaN    39  82535682  \n",
       "1          NaN    39  82535682  \n",
       "2          NaN    40  45552596  "
      ]
     },
     "execution_count": 4,
     "metadata": {},
     "output_type": "execute_result"
    }
   ],
   "source": [
    "df = df_submissions.merge(df_pins, how='inner', left_on='Submission Pin', right_on='pin')\n",
    "df"
   ]
  },
  {
   "cell_type": "markdown",
   "metadata": {},
   "source": [
    "make a datetime column"
   ]
  },
  {
   "cell_type": "code",
   "execution_count": 5,
   "metadata": {},
   "outputs": [],
   "source": [
    "df['datetime'] = pd.to_datetime(df['Timestamp'])"
   ]
  },
  {
   "cell_type": "markdown",
   "metadata": {},
   "source": [
    "put most recent submissions first"
   ]
  },
  {
   "cell_type": "code",
   "execution_count": 6,
   "metadata": {},
   "outputs": [],
   "source": [
    "df.sort_values(by='datetime', inplace=True, ascending=False)"
   ]
  },
  {
   "cell_type": "markdown",
   "metadata": {},
   "source": [
    "only keep most recent submission per team"
   ]
  },
  {
   "cell_type": "code",
   "execution_count": 7,
   "metadata": {},
   "outputs": [],
   "source": [
    "df.drop_duplicates(subset='Submission Pin', keep='first', inplace=True)"
   ]
  },
  {
   "cell_type": "markdown",
   "metadata": {},
   "source": [
    "grade the submissions"
   ]
  },
  {
   "cell_type": "code",
   "execution_count": 8,
   "metadata": {},
   "outputs": [],
   "source": [
    "df['score'] = 0"
   ]
  },
  {
   "cell_type": "code",
   "execution_count": 9,
   "metadata": {},
   "outputs": [],
   "source": [
    "def is_correct_answer(question: int, given_answer: int) -> bool:\n",
    "\n",
    "    if question == 1:\n",
    "        return given_answer == 465369\n",
    "    elif question == 2:\n",
    "        return given_answer == 82\n",
    "    elif question == 3:\n",
    "        return given_answer == 6452\n",
    "    elif question == 4:\n",
    "        return given_answer == 27\n",
    "    elif question == 5:\n",
    "        return given_answer == 2\n",
    "    elif question == 6:\n",
    "        return given_answer == 1\n",
    "    elif question == 7:\n",
    "        return given_answer == 7573\n",
    "    elif question == 8:\n",
    "        return given_answer >= 40147 and given_answer <= 60220\n",
    "    elif question == 9:\n",
    "        return given_answer >= 67338 and given_answer <= 101007\n",
    "    elif question == 10:\n",
    "        return given_answer >= 75129 and given_answer <= 112694\n",
    "    else:\n",
    "        return False\n",
    "\n",
    "\n",
    "for question in range(1, 11):\n",
    "    df['score'] += df.apply(lambda row: is_correct_answer(question, row['Question ' + str(question)]), axis=1)"
   ]
  },
  {
   "cell_type": "code",
   "execution_count": 10,
   "metadata": {},
   "outputs": [
    {
     "data": {
      "text/html": [
       "<div>\n",
       "<style scoped>\n",
       "    .dataframe tbody tr th:only-of-type {\n",
       "        vertical-align: middle;\n",
       "    }\n",
       "\n",
       "    .dataframe tbody tr th {\n",
       "        vertical-align: top;\n",
       "    }\n",
       "\n",
       "    .dataframe thead th {\n",
       "        text-align: right;\n",
       "    }\n",
       "</style>\n",
       "<table border=\"1\" class=\"dataframe\">\n",
       "  <thead>\n",
       "    <tr style=\"text-align: right;\">\n",
       "      <th></th>\n",
       "      <th>Timestamp</th>\n",
       "      <th>Submission Pin</th>\n",
       "      <th>Question 1</th>\n",
       "      <th>Question 2</th>\n",
       "      <th>Question 3</th>\n",
       "      <th>Question 4</th>\n",
       "      <th>Question 5</th>\n",
       "      <th>Question 6</th>\n",
       "      <th>Question 7</th>\n",
       "      <th>Question 8</th>\n",
       "      <th>Question 9</th>\n",
       "      <th>Question 10</th>\n",
       "      <th>team</th>\n",
       "      <th>pin</th>\n",
       "      <th>datetime</th>\n",
       "      <th>score</th>\n",
       "    </tr>\n",
       "  </thead>\n",
       "  <tbody>\n",
       "    <tr>\n",
       "      <th>2</th>\n",
       "      <td>3/25/2025 13:26:42</td>\n",
       "      <td>45552596</td>\n",
       "      <td>NaN</td>\n",
       "      <td>82.0</td>\n",
       "      <td>NaN</td>\n",
       "      <td>NaN</td>\n",
       "      <td>2.0</td>\n",
       "      <td>NaN</td>\n",
       "      <td>NaN</td>\n",
       "      <td>NaN</td>\n",
       "      <td>NaN</td>\n",
       "      <td>NaN</td>\n",
       "      <td>40</td>\n",
       "      <td>45552596</td>\n",
       "      <td>2025-03-25 13:26:42</td>\n",
       "      <td>2</td>\n",
       "    </tr>\n",
       "    <tr>\n",
       "      <th>1</th>\n",
       "      <td>3/25/2025 13:26:20</td>\n",
       "      <td>82535682</td>\n",
       "      <td>NaN</td>\n",
       "      <td>NaN</td>\n",
       "      <td>NaN</td>\n",
       "      <td>NaN</td>\n",
       "      <td>NaN</td>\n",
       "      <td>NaN</td>\n",
       "      <td>NaN</td>\n",
       "      <td>50000.0</td>\n",
       "      <td>NaN</td>\n",
       "      <td>NaN</td>\n",
       "      <td>39</td>\n",
       "      <td>82535682</td>\n",
       "      <td>2025-03-25 13:26:20</td>\n",
       "      <td>1</td>\n",
       "    </tr>\n",
       "  </tbody>\n",
       "</table>\n",
       "</div>"
      ],
      "text/plain": [
       "            Timestamp  Submission Pin  Question 1  Question 2  Question 3  \\\n",
       "2  3/25/2025 13:26:42        45552596         NaN        82.0         NaN   \n",
       "1  3/25/2025 13:26:20        82535682         NaN         NaN         NaN   \n",
       "\n",
       "   Question 4  Question 5  Question 6  Question 7  Question 8  Question 9  \\\n",
       "2         NaN         2.0         NaN         NaN         NaN         NaN   \n",
       "1         NaN         NaN         NaN         NaN     50000.0         NaN   \n",
       "\n",
       "   Question 10  team       pin            datetime  score  \n",
       "2          NaN    40  45552596 2025-03-25 13:26:42      2  \n",
       "1          NaN    39  82535682 2025-03-25 13:26:20      1  "
      ]
     },
     "execution_count": 10,
     "metadata": {},
     "output_type": "execute_result"
    }
   ],
   "source": [
    "df"
   ]
  },
  {
   "cell_type": "markdown",
   "metadata": {},
   "source": [
    "rank winner based on highest score and earliest submission"
   ]
  },
  {
   "cell_type": "code",
   "execution_count": 14,
   "metadata": {},
   "outputs": [],
   "source": [
    "df.sort_values(by=['score','datetime'], inplace=True, ascending=[False,True])"
   ]
  },
  {
   "cell_type": "code",
   "execution_count": 15,
   "metadata": {},
   "outputs": [],
   "source": [
    "columns = ['team', 'score'] + [col for col in df.columns if col not in ['team', 'score']]\n",
    "df = df[columns]"
   ]
  },
  {
   "cell_type": "code",
   "execution_count": 16,
   "metadata": {},
   "outputs": [
    {
     "data": {
      "text/html": [
       "<div>\n",
       "<style scoped>\n",
       "    .dataframe tbody tr th:only-of-type {\n",
       "        vertical-align: middle;\n",
       "    }\n",
       "\n",
       "    .dataframe tbody tr th {\n",
       "        vertical-align: top;\n",
       "    }\n",
       "\n",
       "    .dataframe thead th {\n",
       "        text-align: right;\n",
       "    }\n",
       "</style>\n",
       "<table border=\"1\" class=\"dataframe\">\n",
       "  <thead>\n",
       "    <tr style=\"text-align: right;\">\n",
       "      <th></th>\n",
       "      <th>team</th>\n",
       "      <th>score</th>\n",
       "      <th>Timestamp</th>\n",
       "      <th>Submission Pin</th>\n",
       "      <th>Question 1</th>\n",
       "      <th>Question 2</th>\n",
       "      <th>Question 3</th>\n",
       "      <th>Question 4</th>\n",
       "      <th>Question 5</th>\n",
       "      <th>Question 6</th>\n",
       "      <th>Question 7</th>\n",
       "      <th>Question 8</th>\n",
       "      <th>Question 9</th>\n",
       "      <th>Question 10</th>\n",
       "      <th>pin</th>\n",
       "      <th>datetime</th>\n",
       "    </tr>\n",
       "  </thead>\n",
       "  <tbody>\n",
       "    <tr>\n",
       "      <th>2</th>\n",
       "      <td>40</td>\n",
       "      <td>2</td>\n",
       "      <td>3/25/2025 13:26:42</td>\n",
       "      <td>45552596</td>\n",
       "      <td>NaN</td>\n",
       "      <td>82.0</td>\n",
       "      <td>NaN</td>\n",
       "      <td>NaN</td>\n",
       "      <td>2.0</td>\n",
       "      <td>NaN</td>\n",
       "      <td>NaN</td>\n",
       "      <td>NaN</td>\n",
       "      <td>NaN</td>\n",
       "      <td>NaN</td>\n",
       "      <td>45552596</td>\n",
       "      <td>2025-03-25 13:26:42</td>\n",
       "    </tr>\n",
       "    <tr>\n",
       "      <th>1</th>\n",
       "      <td>39</td>\n",
       "      <td>1</td>\n",
       "      <td>3/25/2025 13:26:20</td>\n",
       "      <td>82535682</td>\n",
       "      <td>NaN</td>\n",
       "      <td>NaN</td>\n",
       "      <td>NaN</td>\n",
       "      <td>NaN</td>\n",
       "      <td>NaN</td>\n",
       "      <td>NaN</td>\n",
       "      <td>NaN</td>\n",
       "      <td>50000.0</td>\n",
       "      <td>NaN</td>\n",
       "      <td>NaN</td>\n",
       "      <td>82535682</td>\n",
       "      <td>2025-03-25 13:26:20</td>\n",
       "    </tr>\n",
       "  </tbody>\n",
       "</table>\n",
       "</div>"
      ],
      "text/plain": [
       "   team  score           Timestamp  Submission Pin  Question 1  Question 2  \\\n",
       "2    40      2  3/25/2025 13:26:42        45552596         NaN        82.0   \n",
       "1    39      1  3/25/2025 13:26:20        82535682         NaN         NaN   \n",
       "\n",
       "   Question 3  Question 4  Question 5  Question 6  Question 7  Question 8  \\\n",
       "2         NaN         NaN         2.0         NaN         NaN         NaN   \n",
       "1         NaN         NaN         NaN         NaN         NaN     50000.0   \n",
       "\n",
       "   Question 9  Question 10       pin            datetime  \n",
       "2         NaN          NaN  45552596 2025-03-25 13:26:42  \n",
       "1         NaN          NaN  82535682 2025-03-25 13:26:20  "
      ]
     },
     "execution_count": 16,
     "metadata": {},
     "output_type": "execute_result"
    }
   ],
   "source": [
    "df"
   ]
  },
  {
   "cell_type": "code",
   "execution_count": 17,
   "metadata": {},
   "outputs": [],
   "source": [
    "df.to_csv(constants.RESULTS_PATH, index=False)"
   ]
  }
 ],
 "metadata": {
  "kernelspec": {
   "display_name": "Python 3",
   "language": "python",
   "name": "python3"
  },
  "language_info": {
   "codemirror_mode": {
    "name": "ipython",
    "version": 3
   },
   "file_extension": ".py",
   "mimetype": "text/x-python",
   "name": "python",
   "nbconvert_exporter": "python",
   "pygments_lexer": "ipython3",
   "version": "3.13.1"
  }
 },
 "nbformat": 4,
 "nbformat_minor": 2
}
